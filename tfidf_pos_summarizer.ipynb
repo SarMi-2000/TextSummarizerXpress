{
 "cells": [
  {
   "cell_type": "code",
   "execution_count": 13,
   "id": "395eeb90",
   "metadata": {},
   "outputs": [],
   "source": [
    "import nltk\n",
    "from nltk.corpus import stopwords\n",
    "from nltk.tokenize import word_tokenize, sent_tokenize\n",
    "from sklearn.feature_extraction.text import TfidfVectorizer\n",
    "import re"
   ]
  },
  {
   "cell_type": "code",
   "execution_count": 14,
   "id": "121366d3",
   "metadata": {},
   "outputs": [
    {
     "name": "stdout",
     "output_type": "stream",
     "text": [
      "Enter the text to summarize: As of May 2023, the world has been recovering from the global COVID-19 pandemic that started in 2019. Vaccination efforts have been widespread, leading to a significant reduction in cases and deaths in many countries. However, some regions are still facing challenges in containing the virus and administering vaccines.  In terms of technology, artificial intelligence and machine learning continue to advance, impacting various sectors such as healthcare, finance, and transportation. The development of self-driving cars and the integration of AI into everyday life are becoming more prevalent.  Climate change remains a pressing issue, with continued efforts to address it through international agreements and initiatives. The transition to renewable energy sources and the reduction of carbon emissions are key focuses in combating climate change.  In geopolitics, there have been ongoing shifts in global power dynamics. Economic tensions between major powers, such as the United States and China, continue to influence international relations. Additionally, regional conflicts and humanitarian crises persist in various parts of the world, requiring diplomatic efforts and humanitarian aid.  In the realm of space exploration, there have been significant achievements. Private space companies are making strides in commercial space travel, with missions to the Moon and Mars becoming more feasible. Efforts are also being made to explore and study other celestial bodies, such as asteroids and distant planets.  Overall, the world is navigating a complex landscape marked by ongoing challenges and advancements across various fields. Societal and technological progress continues to shape the way we live, work, and interact with one another.\n"
     ]
    }
   ],
   "source": [
    "# Prompt the user to enter the text to summarize \n",
    "text = input(\"Enter the text to summarize: \")"
   ]
  },
  {
   "cell_type": "code",
   "execution_count": 15,
   "id": "b73c050d",
   "metadata": {},
   "outputs": [
    {
     "name": "stdout",
     "output_type": "stream",
     "text": [
      "Enter the percentage of summary length (0-100): 30\n"
     ]
    }
   ],
   "source": [
    "# Prompt the user to enter the desired percentage of summary length\n",
    "percentage = float(input(\"Enter the percentage of summary length (0-100): \"))"
   ]
  },
  {
   "cell_type": "code",
   "execution_count": 25,
   "id": "2ad51464",
   "metadata": {},
   "outputs": [
    {
     "name": "stdout",
     "output_type": "stream",
     "text": [
      "\n",
      "Tokenized Sentences:\n",
      "As of May 2023, the world has been recovering from the global COVID-19 pandemic that started in 2019.\n"
     ]
    }
   ],
   "source": [
    "# Tokenizing the sentences\n",
    "sentences = sent_tokenize(text)\n",
    "print(\"\\nTokenized Sentences:\")\n",
    "print(sentences[0])"
   ]
  },
  {
   "cell_type": "code",
   "execution_count": 26,
   "id": "17f821f8",
   "metadata": {},
   "outputs": [
    {
     "name": "stdout",
     "output_type": "stream",
     "text": [
      "\n",
      "Cleaned Sentences:\n",
      "as of may 2023 the world has been recovering from the global covid19 pandemic that started in 2019\n"
     ]
    }
   ],
   "source": [
    "# Clean the sentences by removing punctuation and converting to lowercase\n",
    "cleaned_sentences = [re.sub(r'[^\\w\\s]', '', sentence).lower() for sentence in sentences]\n",
    "print(\"\\nCleaned Sentences:\")\n",
    "print(cleaned_sentences[0])"
   ]
  },
  {
   "cell_type": "code",
   "execution_count": 28,
   "id": "df85ee08",
   "metadata": {},
   "outputs": [
    {
     "data": {
      "text/plain": [
       "TfidfVectorizer(stop_words=['i', 'me', 'my', 'myself', 'we', 'our', 'ours',\n",
       "                            'ourselves', 'you', \"you're\", \"you've\", \"you'll\",\n",
       "                            \"you'd\", 'your', 'yours', 'yourself', 'yourselves',\n",
       "                            'he', 'him', 'his', 'himself', 'she', \"she's\",\n",
       "                            'her', 'hers', 'herself', 'it', \"it's\", 'its',\n",
       "                            'itself', ...])"
      ]
     },
     "execution_count": 28,
     "metadata": {},
     "output_type": "execute_result"
    }
   ],
   "source": [
    "# Create a TF-IDF vectorizer and fit it on the cleaned sentences\n",
    "tfidf_vectorizer = TfidfVectorizer(stop_words=stopwords.words('english'))\n",
    "tfidf_vectorizer.fit(cleaned_sentences)"
   ]
  },
  {
   "cell_type": "code",
   "execution_count": 33,
   "id": "fea14509",
   "metadata": {},
   "outputs": [
    {
     "name": "stdout",
     "output_type": "stream",
     "text": [
      "\n",
      "Tagged Sentences:\n",
      "Sentence 1:\n",
      "[('as', 'IN'), ('of', 'IN'), ('may', 'MD'), ('2023', 'VB'), ('the', 'DT'), ('world', 'NN'), ('has', 'VBZ'), ('been', 'VBN'), ('recovering', 'VBG'), ('from', 'IN'), ('the', 'DT'), ('global', 'JJ'), ('covid19', 'NN'), ('pandemic', 'NN'), ('that', 'WDT'), ('started', 'VBD'), ('in', 'IN'), ('2019', 'CD')]\n",
      "Sentence 2:\n",
      "[('vaccination', 'NN'), ('efforts', 'NNS'), ('have', 'VBP'), ('been', 'VBN'), ('widespread', 'JJ'), ('leading', 'VBG'), ('to', 'TO'), ('a', 'DT'), ('significant', 'JJ'), ('reduction', 'NN'), ('in', 'IN'), ('cases', 'NNS'), ('and', 'CC'), ('deaths', 'NNS'), ('in', 'IN'), ('many', 'JJ'), ('countries', 'NNS')]\n",
      "Sentence 3:\n",
      "[('however', 'RB'), ('some', 'DT'), ('regions', 'NNS'), ('are', 'VBP'), ('still', 'RB'), ('facing', 'VBG'), ('challenges', 'NNS'), ('in', 'IN'), ('containing', 'VBG'), ('the', 'DT'), ('virus', 'NN'), ('and', 'CC'), ('administering', 'VBG'), ('vaccines', 'NNS')]\n",
      "Sentence 4:\n",
      "[('in', 'IN'), ('terms', 'NNS'), ('of', 'IN'), ('technology', 'NN'), ('artificial', 'JJ'), ('intelligence', 'NN'), ('and', 'CC'), ('machine', 'NN'), ('learning', 'NN'), ('continue', 'VBP'), ('to', 'TO'), ('advance', 'VB'), ('impacting', 'VBG'), ('various', 'JJ'), ('sectors', 'NNS'), ('such', 'JJ'), ('as', 'IN'), ('healthcare', 'NN'), ('finance', 'NN'), ('and', 'CC'), ('transportation', 'NN')]\n",
      "Sentence 5:\n",
      "[('the', 'DT'), ('development', 'NN'), ('of', 'IN'), ('selfdriving', 'VBG'), ('cars', 'NNS'), ('and', 'CC'), ('the', 'DT'), ('integration', 'NN'), ('of', 'IN'), ('ai', 'NN'), ('into', 'IN'), ('everyday', 'JJ'), ('life', 'NN'), ('are', 'VBP'), ('becoming', 'VBG'), ('more', 'RBR'), ('prevalent', 'JJ')]\n",
      "Sentence 6:\n",
      "[('climate', 'NN'), ('change', 'NN'), ('remains', 'VBZ'), ('a', 'DT'), ('pressing', 'JJ'), ('issue', 'NN'), ('with', 'IN'), ('continued', 'JJ'), ('efforts', 'NNS'), ('to', 'TO'), ('address', 'VB'), ('it', 'PRP'), ('through', 'IN'), ('international', 'JJ'), ('agreements', 'NNS'), ('and', 'CC'), ('initiatives', 'NNS')]\n",
      "Sentence 7:\n",
      "[('the', 'DT'), ('transition', 'NN'), ('to', 'TO'), ('renewable', 'VB'), ('energy', 'NN'), ('sources', 'NNS'), ('and', 'CC'), ('the', 'DT'), ('reduction', 'NN'), ('of', 'IN'), ('carbon', 'NN'), ('emissions', 'NNS'), ('are', 'VBP'), ('key', 'JJ'), ('focuses', 'NNS'), ('in', 'IN'), ('combating', 'VBG'), ('climate', 'NN'), ('change', 'NN')]\n",
      "Sentence 8:\n",
      "[('in', 'IN'), ('geopolitics', 'NNS'), ('there', 'EX'), ('have', 'VBP'), ('been', 'VBN'), ('ongoing', 'VBG'), ('shifts', 'NNS'), ('in', 'IN'), ('global', 'JJ'), ('power', 'NN'), ('dynamics', 'NNS')]\n",
      "Sentence 9:\n",
      "[('economic', 'JJ'), ('tensions', 'NNS'), ('between', 'IN'), ('major', 'JJ'), ('powers', 'NNS'), ('such', 'JJ'), ('as', 'IN'), ('the', 'DT'), ('united', 'JJ'), ('states', 'NNS'), ('and', 'CC'), ('china', 'NNS'), ('continue', 'VBP'), ('to', 'TO'), ('influence', 'VB'), ('international', 'JJ'), ('relations', 'NNS')]\n",
      "Sentence 10:\n",
      "[('additionally', 'RB'), ('regional', 'JJ'), ('conflicts', 'NNS'), ('and', 'CC'), ('humanitarian', 'JJ'), ('crises', 'NNS'), ('persist', 'VBP'), ('in', 'IN'), ('various', 'JJ'), ('parts', 'NNS'), ('of', 'IN'), ('the', 'DT'), ('world', 'NN'), ('requiring', 'VBG'), ('diplomatic', 'JJ'), ('efforts', 'NNS'), ('and', 'CC'), ('humanitarian', 'JJ'), ('aid', 'NN')]\n",
      "Sentence 11:\n",
      "[('in', 'IN'), ('the', 'DT'), ('realm', 'NN'), ('of', 'IN'), ('space', 'NN'), ('exploration', 'NN'), ('there', 'RB'), ('have', 'VBP'), ('been', 'VBN'), ('significant', 'JJ'), ('achievements', 'NNS')]\n",
      "Sentence 12:\n",
      "[('private', 'JJ'), ('space', 'NN'), ('companies', 'NNS'), ('are', 'VBP'), ('making', 'VBG'), ('strides', 'NNS'), ('in', 'IN'), ('commercial', 'JJ'), ('space', 'NN'), ('travel', 'NN'), ('with', 'IN'), ('missions', 'NNS'), ('to', 'TO'), ('the', 'DT'), ('moon', 'NN'), ('and', 'CC'), ('mars', 'NNS'), ('becoming', 'VBG'), ('more', 'RBR'), ('feasible', 'JJ')]\n",
      "Sentence 13:\n",
      "[('efforts', 'NNS'), ('are', 'VBP'), ('also', 'RB'), ('being', 'VBG'), ('made', 'VBN'), ('to', 'TO'), ('explore', 'VB'), ('and', 'CC'), ('study', 'VB'), ('other', 'JJ'), ('celestial', 'JJ'), ('bodies', 'NNS'), ('such', 'JJ'), ('as', 'IN'), ('asteroids', 'NNS'), ('and', 'CC'), ('distant', 'JJ'), ('planets', 'NNS')]\n",
      "Sentence 14:\n",
      "[('overall', 'IN'), ('the', 'DT'), ('world', 'NN'), ('is', 'VBZ'), ('navigating', 'VBG'), ('a', 'DT'), ('complex', 'JJ'), ('landscape', 'NN'), ('marked', 'VBN'), ('by', 'IN'), ('ongoing', 'VBG'), ('challenges', 'NNS'), ('and', 'CC'), ('advancements', 'NNS'), ('across', 'IN'), ('various', 'JJ'), ('fields', 'NNS')]\n",
      "Sentence 15:\n",
      "[('societal', 'NN'), ('and', 'CC'), ('technological', 'JJ'), ('progress', 'NN'), ('continues', 'VBZ'), ('to', 'TO'), ('shape', 'VB'), ('the', 'DT'), ('way', 'NN'), ('we', 'PRP'), ('live', 'VBP'), ('work', 'NN'), ('and', 'CC'), ('interact', 'NN'), ('with', 'IN'), ('one', 'CD'), ('another', 'DT')]\n"
     ]
    }
   ],
   "source": [
    "# Perform part-of-speech tagging on the cleaned sentences\n",
    "tagged_sentences = [nltk.pos_tag(word_tokenize(sentence)) for sentence in cleaned_sentences]\n",
    "print(\"\\nTagged Sentences:\")\n",
    "for i, tagged_sentence in enumerate(tagged_sentences):\n",
    "    print(f\"Sentence {i+1}:\")\n",
    "    print(tagged_sentence)"
   ]
  },
  {
   "cell_type": "code",
   "execution_count": 34,
   "id": "8ef9941d",
   "metadata": {},
   "outputs": [
    {
     "name": "stdout",
     "output_type": "stream",
     "text": [
      "\n",
      "Total Word Count: 253\n"
     ]
    }
   ],
   "source": [
    "sentence_scores = {}\n",
    "total_word_count = sum(len(sentence.split()) for sentence in sentences)\n",
    "print(\"\\nTotal Word Count:\", total_word_count)"
   ]
  },
  {
   "cell_type": "code",
   "execution_count": 35,
   "id": "d2cd7fbd",
   "metadata": {},
   "outputs": [
    {
     "name": "stdout",
     "output_type": "stream",
     "text": [
      "Number of Words in Summary: 75\n"
     ]
    }
   ],
   "source": [
    "# Calculate the number of words to include in the summary based on the selected percentage\n",
    "num_words = int((percentage / 100) * total_word_count)\n",
    "print(\"Number of Words in Summary:\", num_words)"
   ]
  },
  {
   "cell_type": "code",
   "execution_count": 36,
   "id": "095a8d00",
   "metadata": {},
   "outputs": [
    {
     "name": "stdout",
     "output_type": "stream",
     "text": [
      "\n",
      "Sentence Scores:\n",
      "as of may 2023 the world has been recovering from the global covid19 pandemic that started in 2019 : 434.6506836925514\n",
      "vaccination efforts have been widespread leading to a significant reduction in cases and deaths in many countries : 455.60956734420046\n",
      "however some regions are still facing challenges in containing the virus and administering vaccines : 341.65373180327623\n",
      "in terms of technology artificial intelligence and machine learning continue to advance impacting various sectors such as healthcare finance and transportation : 762.8359210393012\n",
      "the development of selfdriving cars and the integration of ai into everyday life are becoming more prevalent : 415.56032880359226\n",
      "climate change remains a pressing issue with continued efforts to address it through international agreements and initiatives : 401.74256121886845\n",
      "the transition to renewable energy sources and the reduction of carbon emissions are key focuses in combating climate change : 687.5159276111085\n",
      "in geopolitics there have been ongoing shifts in global power dynamics : 231.44048719583301\n",
      "economic tensions between major powers such as the united states and china continue to influence international relations : 360.7770319463861\n",
      "additionally regional conflicts and humanitarian crises persist in various parts of the world requiring diplomatic efforts and humanitarian aid : 449.6544335913826\n",
      "in the realm of space exploration there have been significant achievements : 198.37756045357116\n",
      "private space companies are making strides in commercial space travel with missions to the moon and mars becoming more feasible : 664.0967906019943\n",
      "efforts are also being made to explore and study other celestial bodies such as asteroids and distant planets : 490.6229131652659\n",
      "overall the world is navigating a complex landscape marked by ongoing challenges and advancements across various fields : 451.37953468098885\n",
      "societal and technological progress continues to shape the way we live work and interact with one another : 418.80404966845754\n"
     ]
    }
   ],
   "source": [
    "# Calculate sentence scores based on TF-IDF scores and part-of-speech information\n",
    "for i, sentence in enumerate(cleaned_sentences):\n",
    "    sentence_tokens = word_tokenize(sentence)\n",
    "    sentence_tfidf_scores = [tfidf_vectorizer.idf_[tfidf_vectorizer.vocabulary_.get(token, 0)] \n",
    "                             for token in sentence_tokens]\n",
    "    pos_scores = [1 if tag.startswith('NN') or tag.startswith('VB') else 0 \n",
    "                  for _, tag in tagged_sentences[i]]\n",
    "    sentence_scores[sentence] = sum(sentence_tfidf_scores) * sum(pos_scores)\n",
    "\n",
    "print(\"\\nSentence Scores:\")\n",
    "for sentence, score in sentence_scores.items():\n",
    "    print(sentence, \":\", score)"
   ]
  },
  {
   "cell_type": "code",
   "execution_count": 37,
   "id": "08731626",
   "metadata": {},
   "outputs": [
    {
     "name": "stdout",
     "output_type": "stream",
     "text": [
      "\n",
      "Summary:\n",
      "As of May 2023, the world has been recovering from the global COVID-19 pandemic that started in 2019. Vaccination efforts have been widespread, leading to a significant reduction in cases and deaths in many countries. However, some regions are still facing challenges in containing the virus and administering vaccines. In terms of technology, artificial intelligence and machine learning continue to advance, impacting various sectors such as healthcare, finance, and transportation.\n"
     ]
    }
   ],
   "source": [
    "# Select the most important sentences for the summary based on the number of words\n",
    "summary_sentences = []\n",
    "current_word_count = 0\n",
    "for sentence in sentences:\n",
    "    if current_word_count + len(sentence.split()) <= num_words:\n",
    "        summary_sentences.append(sentence)\n",
    "        current_word_count += len(sentence.split())\n",
    "    else:\n",
    "        break\n",
    "\n",
    "summary = ' '.join(summary_sentences)\n",
    "\n",
    "print(\"\\nSummary:\")\n",
    "print(summary)"
   ]
  },
  {
   "cell_type": "code",
   "execution_count": null,
   "id": "a5550e36",
   "metadata": {},
   "outputs": [],
   "source": []
  }
 ],
 "metadata": {
  "kernelspec": {
   "display_name": "Python 3 (ipykernel)",
   "language": "python",
   "name": "python3"
  },
  "language_info": {
   "codemirror_mode": {
    "name": "ipython",
    "version": 3
   },
   "file_extension": ".py",
   "mimetype": "text/x-python",
   "name": "python",
   "nbconvert_exporter": "python",
   "pygments_lexer": "ipython3",
   "version": "3.9.7"
  }
 },
 "nbformat": 4,
 "nbformat_minor": 5
}
