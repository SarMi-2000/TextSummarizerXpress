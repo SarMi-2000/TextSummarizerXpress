{
 "cells": [
  {
   "cell_type": "code",
   "execution_count": 1,
   "id": "068b1452",
   "metadata": {},
   "outputs": [],
   "source": [
    "from sumy.parsers.plaintext import PlaintextParser\n",
    "from sumy.nlp.tokenizers import Tokenizer\n",
    "from sumy.summarizers.text_rank import TextRankSummarizer"
   ]
  },
  {
   "cell_type": "code",
   "execution_count": 2,
   "id": "7bbec97a",
   "metadata": {},
   "outputs": [
    {
     "name": "stdout",
     "output_type": "stream",
     "text": [
      "Enter the text to summarize: As of May 2023, the world has been recovering from the global COVID-19 pandemic that started in 2019. Vaccination efforts have been widespread, leading to a significant reduction in cases and deaths in many countries. However, some regions are still facing challenges in containing the virus and administering vaccines.  In terms of technology, artificial intelligence and machine learning continue to advance, impacting various sectors such as healthcare, finance, and transportation. The development of self-driving cars and the integration of AI into everyday life are becoming more prevalent.  Climate change remains a pressing issue, with continued efforts to address it through international agreements and initiatives. The transition to renewable energy sources and the reduction of carbon emissions are key focuses in combating climate change.  In geopolitics, there have been ongoing shifts in global power dynamics. Economic tensions between major powers, such as the United States and China, continue to influence international relations. Additionally, regional conflicts and humanitarian crises persist in various parts of the world, requiring diplomatic efforts and humanitarian aid.  In the realm of space exploration, there have been significant achievements. Private space companies are making strides in commercial space travel, with missions to the Moon and Mars becoming more feasible. Efforts are also being made to explore and study other celestial bodies, such as asteroids and distant planets.  Overall, the world is navigating a complex landscape marked by ongoing challenges and advancements across various fields. Societal and technological progress continues to shape the way we live, work, and interact with one another.\n"
     ]
    }
   ],
   "source": [
    "# Prompt the user to enter the text to summarize \n",
    "text = input(\"Enter the text to summarize: \")"
   ]
  },
  {
   "cell_type": "code",
   "execution_count": 3,
   "id": "fd77aa40",
   "metadata": {},
   "outputs": [
    {
     "name": "stdout",
     "output_type": "stream",
     "text": [
      "Enter the percentage of summary length (0-100): 30\n"
     ]
    }
   ],
   "source": [
    "# Prompt the user to enter the desired percentage of summary length\n",
    "percentage = float(input(\"Enter the percentage of summary length (0-100): \"))"
   ]
  },
  {
   "cell_type": "code",
   "execution_count": 5,
   "id": "363fc94a",
   "metadata": {},
   "outputs": [],
   "source": [
    "# Create parser and tokenizer\n",
    "parser = PlaintextParser.from_string(text, Tokenizer(\"english\"))"
   ]
  },
  {
   "cell_type": "code",
   "execution_count": 6,
   "id": "ec5cc5f8",
   "metadata": {},
   "outputs": [],
   "source": [
    " # Calculate the number of sentences to include in the summary based on the selected percentage\n",
    "num_sentences = int((percentage / 100) * len(parser.document.sentences))"
   ]
  },
  {
   "cell_type": "code",
   "execution_count": 7,
   "id": "5e4d2aef",
   "metadata": {},
   "outputs": [],
   "source": [
    "# Create summarizer\n",
    "summarizer = TextRankSummarizer()"
   ]
  },
  {
   "cell_type": "code",
   "execution_count": 8,
   "id": "061ed318",
   "metadata": {},
   "outputs": [],
   "source": [
    "# Get summary and join the sentences\n",
    "summary_sentences = summarizer(parser.document, num_sentences)\n",
    "summary = \" \".join(str(sentence) for sentence in summary_sentences)"
   ]
  },
  {
   "cell_type": "code",
   "execution_count": 9,
   "id": "83b849d3",
   "metadata": {},
   "outputs": [
    {
     "name": "stdout",
     "output_type": "stream",
     "text": [
      "\n",
      "Summary:\n",
      "In terms of technology, artificial intelligence and machine learning continue to advance, impacting various sectors such as healthcare, finance, and transportation. The transition to renewable energy sources and the reduction of carbon emissions are key focuses in combating climate change. Additionally, regional conflicts and humanitarian crises persist in various parts of the world, requiring diplomatic efforts and humanitarian aid. Private space companies are making strides in commercial space travel, with missions to the Moon and Mars becoming more feasible.\n"
     ]
    }
   ],
   "source": [
    "print(\"\\nSummary:\")\n",
    "print(summary)"
   ]
  },
  {
   "cell_type": "code",
   "execution_count": null,
   "id": "6b45ee8a",
   "metadata": {},
   "outputs": [],
   "source": []
  }
 ],
 "metadata": {
  "kernelspec": {
   "display_name": "Python 3 (ipykernel)",
   "language": "python",
   "name": "python3"
  },
  "language_info": {
   "codemirror_mode": {
    "name": "ipython",
    "version": 3
   },
   "file_extension": ".py",
   "mimetype": "text/x-python",
   "name": "python",
   "nbconvert_exporter": "python",
   "pygments_lexer": "ipython3",
   "version": "3.9.7"
  }
 },
 "nbformat": 4,
 "nbformat_minor": 5
}
