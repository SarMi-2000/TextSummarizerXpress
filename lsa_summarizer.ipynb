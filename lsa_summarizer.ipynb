{
 "cells": [
  {
   "cell_type": "code",
   "execution_count": 1,
   "id": "680b2296",
   "metadata": {},
   "outputs": [],
   "source": [
    "from sumy.parsers.plaintext import PlaintextParser\n",
    "from sumy.nlp.tokenizers import Tokenizer\n",
    "from sumy.summarizers.lsa import LsaSummarizer"
   ]
  },
  {
   "cell_type": "code",
   "execution_count": 2,
   "id": "dc324f38",
   "metadata": {},
   "outputs": [
    {
     "name": "stdout",
     "output_type": "stream",
     "text": [
      "Enter the text to summarize: As of May 2023, the world has been recovering from the global COVID-19 pandemic that started in 2019. Vaccination efforts have been widespread, leading to a significant reduction in cases and deaths in many countries. However, some regions are still facing challenges in containing the virus and administering vaccines.  In terms of technology, artificial intelligence and machine learning continue to advance, impacting various sectors such as healthcare, finance, and transportation. The development of self-driving cars and the integration of AI into everyday life are becoming more prevalent.  Climate change remains a pressing issue, with continued efforts to address it through international agreements and initiatives. The transition to renewable energy sources and the reduction of carbon emissions are key focuses in combating climate change.  In geopolitics, there have been ongoing shifts in global power dynamics. Economic tensions between major powers, such as the United States and China, continue to influence international relations. Additionally, regional conflicts and humanitarian crises persist in various parts of the world, requiring diplomatic efforts and humanitarian aid.  In the realm of space exploration, there have been significant achievements. Private space companies are making strides in commercial space travel, with missions to the Moon and Mars becoming more feasible. Efforts are also being made to explore and study other celestial bodies, such as asteroids and distant planets.  Overall, the world is navigating a complex landscape marked by ongoing challenges and advancements across various fields. Societal and technological progress continues to shape the way we live, work, and interact with one another.\n"
     ]
    }
   ],
   "source": [
    "# Prompt the user to enter the text to summarize \n",
    "text = input(\"Enter the text to summarize: \")"
   ]
  },
  {
   "cell_type": "code",
   "execution_count": null,
   "id": "7bc1537f",
   "metadata": {},
   "outputs": [],
   "source": []
  }
 ],
 "metadata": {
  "kernelspec": {
   "display_name": "Python 3 (ipykernel)",
   "language": "python",
   "name": "python3"
  },
  "language_info": {
   "codemirror_mode": {
    "name": "ipython",
    "version": 3
   },
   "file_extension": ".py",
   "mimetype": "text/x-python",
   "name": "python",
   "nbconvert_exporter": "python",
   "pygments_lexer": "ipython3",
   "version": "3.9.7"
  }
 },
 "nbformat": 4,
 "nbformat_minor": 5
}
